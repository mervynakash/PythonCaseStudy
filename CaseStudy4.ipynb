{
 "cells": [
  {
   "cell_type": "code",
   "execution_count": 1,
   "metadata": {
    "collapsed": true
   },
   "outputs": [],
   "source": [
    "import pandas as pd\n",
    "import numpy as np\n",
    "import os\n",
    "\n",
    "os.chdir(\"E:/Python DS/Assignments\")\n",
    "\n",
    "air = pd.read_csv('DataSets/airquality.csv')"
   ]
  },
  {
   "cell_type": "code",
   "execution_count": 2,
   "metadata": {},
   "outputs": [
    {
     "name": "stdout",
     "output_type": "stream",
     "text": [
      "    Ozone  Solar.R  Wind  Temp  Month  Day\n",
      "39   71.0    291.0  13.8    90      6    9\n"
     ]
    }
   ],
   "source": [
    "# Fetch the observations for 9 day of June\n",
    "print(air[(air.Day == 9) & (air.Month == 6)])"
   ]
  },
  {
   "cell_type": "code",
   "execution_count": 3,
   "metadata": {},
   "outputs": [
    {
     "name": "stdout",
     "output_type": "stream",
     "text": [
      "79.1\n"
     ]
    }
   ],
   "source": [
    "# Find Average temperature for the month of June. \n",
    "print(air[air.Month == 6].mean()['Temp'])"
   ]
  },
  {
   "cell_type": "code",
   "execution_count": 5,
   "metadata": {},
   "outputs": [
    {
     "name": "stdout",
     "output_type": "stream",
     "text": [
      "[18]\n"
     ]
    }
   ],
   "source": [
    "# To which day of June has the least temperature\n",
    "tempmin = air[air.Month == 6].min()['Temp']\n",
    "print(air.Day[(air.Temp == tempmin) & (air.Month == 6)].values)"
   ]
  },
  {
   "cell_type": "code",
   "execution_count": 6,
   "metadata": {},
   "outputs": [
    {
     "name": "stdout",
     "output_type": "stream",
     "text": [
      "115.0\n"
     ]
    }
   ],
   "source": [
    "# Find Maximum Ozone value for the month of May\n",
    "print(air[air.Month == 5].max()['Ozone'])"
   ]
  },
  {
   "cell_type": "code",
   "execution_count": 2,
   "metadata": {},
   "outputs": [
    {
     "name": "stdout",
     "output_type": "stream",
     "text": [
      "37\n"
     ]
    }
   ],
   "source": [
    "# Find the count of the missing values in the ozone column of the data set\n",
    "oz = air.Ozone\n",
    "print(oz.shape[0] - oz.dropna().shape[0])"
   ]
  },
  {
   "cell_type": "code",
   "execution_count": 4,
   "metadata": {},
   "outputs": [
    {
     "data": {
      "text/plain": [
       "37"
      ]
     },
     "execution_count": 4,
     "metadata": {},
     "output_type": "execute_result"
    }
   ],
   "source": [
    "len(air.Ozone[np.isnan(air.Ozone)])"
   ]
  },
  {
   "cell_type": "code",
   "execution_count": 5,
   "metadata": {},
   "outputs": [
    {
     "data": {
      "text/plain": [
       "37"
      ]
     },
     "execution_count": 5,
     "metadata": {},
     "output_type": "execute_result"
    }
   ],
   "source": [
    "air.Ozone.isnull().sum()"
   ]
  },
  {
   "cell_type": "code",
   "execution_count": 8,
   "metadata": {},
   "outputs": [
    {
     "name": "stdout",
     "output_type": "stream",
     "text": [
      "42.12931034482759\n"
     ]
    }
   ],
   "source": [
    "# Find out What is the mean of the Ozone column in this dataset\n",
    "print(oz.mean())"
   ]
  },
  {
   "cell_type": "code",
   "execution_count": 10,
   "metadata": {},
   "outputs": [
    {
     "name": "stdout",
     "output_type": "stream",
     "text": [
      "[8]\n"
     ]
    }
   ],
   "source": [
    "# Find out which month has the highest temperature\n",
    "maxtemp = air.max()['Temp']\n",
    "print(air.Month[air.Temp == maxtemp].values)"
   ]
  },
  {
   "cell_type": "code",
   "execution_count": 12,
   "metadata": {},
   "outputs": [
    {
     "name": "stdout",
     "output_type": "stream",
     "text": [
      "[ 3.4]\n"
     ]
    }
   ],
   "source": [
    "# Find out the wind value when the Ozone becomes maximum\n",
    "maxozone = air.max()['Ozone']\n",
    "print(air.Wind[air.Ozone == maxozone].values)"
   ]
  },
  {
   "cell_type": "code",
   "execution_count": 13,
   "metadata": {},
   "outputs": [
    {
     "name": "stdout",
     "output_type": "stream",
     "text": [
      "[5 6 7 8 9]\n"
     ]
    }
   ],
   "source": [
    "# Find out the months for which the airquality observations have been carried out\n",
    "print(air.Month.unique())"
   ]
  },
  {
   "cell_type": "code",
   "execution_count": 14,
   "metadata": {},
   "outputs": [
    {
     "name": "stdout",
     "output_type": "stream",
     "text": [
      "     Ozone  Temp\n",
      "0     41.0    67\n",
      "31     NaN    78\n",
      "61   135.0    84\n",
      "92    39.0    81\n",
      "123   96.0    91\n"
     ]
    }
   ],
   "source": [
    "# Find the Ozone and temperature values for the 1st observation of every month.\n",
    "print(air[air.Day == 1][['Ozone','Temp']])"
   ]
  },
  {
   "cell_type": "code",
   "execution_count": 15,
   "metadata": {},
   "outputs": [
    {
     "name": "stdout",
     "output_type": "stream",
     "text": [
      "    Day  Month\n",
      "20   21      5\n"
     ]
    }
   ],
   "source": [
    "# Which day of which month corresponds to the least Ozone Value. \n",
    "minozone = air.min()['Ozone']\n",
    "print(air[air.Ozone == minozone][['Day','Month']])"
   ]
  },
  {
   "cell_type": "code",
   "execution_count": 17,
   "metadata": {
    "scrolled": true
   },
   "outputs": [
    {
     "name": "stdout",
     "output_type": "stream",
     "text": [
      "0      19.444444\n",
      "1      22.222222\n",
      "2      23.333333\n",
      "3      16.666667\n",
      "4      13.333333\n",
      "5      18.888889\n",
      "6      18.333333\n",
      "7      15.000000\n",
      "8      16.111111\n",
      "9      20.555556\n",
      "10     23.333333\n",
      "11     20.555556\n",
      "12     18.888889\n",
      "13     20.000000\n",
      "14     14.444444\n",
      "15     17.777778\n",
      "16     18.888889\n",
      "17     13.888889\n",
      "18     20.000000\n",
      "19     16.666667\n",
      "20     15.000000\n",
      "21     22.777778\n",
      "22     16.111111\n",
      "23     16.111111\n",
      "24     13.888889\n",
      "25     14.444444\n",
      "26     13.888889\n",
      "27     19.444444\n",
      "28     27.222222\n",
      "29     26.111111\n",
      "         ...    \n",
      "123    32.777778\n",
      "124    33.333333\n",
      "125    33.888889\n",
      "126    33.888889\n",
      "127    30.555556\n",
      "128    28.888889\n",
      "129    26.666667\n",
      "130    25.555556\n",
      "131    23.888889\n",
      "132    22.777778\n",
      "133    27.222222\n",
      "134    24.444444\n",
      "135    25.000000\n",
      "136    21.666667\n",
      "137    21.666667\n",
      "138    25.555556\n",
      "139    19.444444\n",
      "140    24.444444\n",
      "141    20.000000\n",
      "142    27.777778\n",
      "143    17.777778\n",
      "144    21.666667\n",
      "145    27.222222\n",
      "146    20.555556\n",
      "147    17.222222\n",
      "148    21.111111\n",
      "149    25.000000\n",
      "150    23.888889\n",
      "151    24.444444\n",
      "152    20.000000\n",
      "Name: Temp, Length: 153, dtype: float64\n"
     ]
    }
   ],
   "source": [
    "# Convert the temperature for all the observations to Centigrade scale\n",
    "cent = (air.Temp - 32)*5/9\n",
    "print(cent)"
   ]
  },
  {
   "cell_type": "code",
   "execution_count": null,
   "metadata": {
    "collapsed": true
   },
   "outputs": [],
   "source": []
  }
 ],
 "metadata": {
  "kernelspec": {
   "display_name": "Python 3",
   "language": "python",
   "name": "python3"
  },
  "language_info": {
   "codemirror_mode": {
    "name": "ipython",
    "version": 3
   },
   "file_extension": ".py",
   "mimetype": "text/x-python",
   "name": "python",
   "nbconvert_exporter": "python",
   "pygments_lexer": "ipython3",
   "version": "3.6.3"
  }
 },
 "nbformat": 4,
 "nbformat_minor": 2
}
